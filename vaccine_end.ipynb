{
 "cells": [
  {
   "cell_type": "markdown",
   "id": "bbf33123",
   "metadata": {},
   "source": [
    "Author: Kevin Mntambo\n",
    "Description:\n"
   ]
  },
  {
   "cell_type": "code",
   "execution_count": 78,
   "id": "bef8104a",
   "metadata": {},
   "outputs": [],
   "source": [
    "import pandas as pd\n",
    "from datetime import timedelta, date"
   ]
  },
  {
   "cell_type": "code",
   "execution_count": 79,
   "id": "a094041d",
   "metadata": {},
   "outputs": [],
   "source": [
    "vaccines = pd.read_csv(\"South_Africa.csv\")"
   ]
  },
  {
   "cell_type": "code",
   "execution_count": 80,
   "id": "97bc2da8",
   "metadata": {},
   "outputs": [
    {
     "data": {
      "text/html": [
       "<div>\n",
       "<style scoped>\n",
       "    .dataframe tbody tr th:only-of-type {\n",
       "        vertical-align: middle;\n",
       "    }\n",
       "\n",
       "    .dataframe tbody tr th {\n",
       "        vertical-align: top;\n",
       "    }\n",
       "\n",
       "    .dataframe thead th {\n",
       "        text-align: right;\n",
       "    }\n",
       "</style>\n",
       "<table border=\"1\" class=\"dataframe\">\n",
       "  <thead>\n",
       "    <tr style=\"text-align: right;\">\n",
       "      <th></th>\n",
       "      <th>location</th>\n",
       "      <th>date</th>\n",
       "      <th>vaccine</th>\n",
       "      <th>source_url</th>\n",
       "      <th>total_vaccinations</th>\n",
       "      <th>people_vaccinated</th>\n",
       "      <th>people_fully_vaccinated</th>\n",
       "    </tr>\n",
       "  </thead>\n",
       "  <tbody>\n",
       "    <tr>\n",
       "      <th>118</th>\n",
       "      <td>South Africa</td>\n",
       "      <td>2021-07-23</td>\n",
       "      <td>Johnson&amp;Johnson, Pfizer/BioNTech</td>\n",
       "      <td>https://sacoronavirus.co.za/latest-vaccine-sta...</td>\n",
       "      <td>6308201</td>\n",
       "      <td>5202583.0</td>\n",
       "      <td>2274267.0</td>\n",
       "    </tr>\n",
       "    <tr>\n",
       "      <th>119</th>\n",
       "      <td>South Africa</td>\n",
       "      <td>2021-07-25</td>\n",
       "      <td>Johnson&amp;Johnson, Pfizer/BioNTech</td>\n",
       "      <td>https://sacoronavirus.co.za/latest-vaccine-sta...</td>\n",
       "      <td>6384382</td>\n",
       "      <td>5266979.0</td>\n",
       "      <td>2311559.0</td>\n",
       "    </tr>\n",
       "    <tr>\n",
       "      <th>120</th>\n",
       "      <td>South Africa</td>\n",
       "      <td>2021-07-26</td>\n",
       "      <td>Johnson&amp;Johnson, Pfizer/BioNTech</td>\n",
       "      <td>https://sacoronavirus.co.za/2021/07/26/update-...</td>\n",
       "      <td>6613704</td>\n",
       "      <td>NaN</td>\n",
       "      <td>NaN</td>\n",
       "    </tr>\n",
       "    <tr>\n",
       "      <th>121</th>\n",
       "      <td>South Africa</td>\n",
       "      <td>2021-07-27</td>\n",
       "      <td>Johnson&amp;Johnson, Pfizer/BioNTech</td>\n",
       "      <td>https://sacoronavirus.co.za/latest-vaccine-sta...</td>\n",
       "      <td>6854667</td>\n",
       "      <td>5580927.0</td>\n",
       "      <td>2580001.0</td>\n",
       "    </tr>\n",
       "    <tr>\n",
       "      <th>122</th>\n",
       "      <td>South Africa</td>\n",
       "      <td>2021-07-29</td>\n",
       "      <td>Johnson&amp;Johnson, Pfizer/BioNTech</td>\n",
       "      <td>https://sacoronavirus.co.za/latest-vaccine-sta...</td>\n",
       "      <td>7297912</td>\n",
       "      <td>5921627.0</td>\n",
       "      <td>2835930.0</td>\n",
       "    </tr>\n",
       "  </tbody>\n",
       "</table>\n",
       "</div>"
      ],
      "text/plain": [
       "         location        date                           vaccine  \\\n",
       "118  South Africa  2021-07-23  Johnson&Johnson, Pfizer/BioNTech   \n",
       "119  South Africa  2021-07-25  Johnson&Johnson, Pfizer/BioNTech   \n",
       "120  South Africa  2021-07-26  Johnson&Johnson, Pfizer/BioNTech   \n",
       "121  South Africa  2021-07-27  Johnson&Johnson, Pfizer/BioNTech   \n",
       "122  South Africa  2021-07-29  Johnson&Johnson, Pfizer/BioNTech   \n",
       "\n",
       "                                            source_url  total_vaccinations  \\\n",
       "118  https://sacoronavirus.co.za/latest-vaccine-sta...             6308201   \n",
       "119  https://sacoronavirus.co.za/latest-vaccine-sta...             6384382   \n",
       "120  https://sacoronavirus.co.za/2021/07/26/update-...             6613704   \n",
       "121  https://sacoronavirus.co.za/latest-vaccine-sta...             6854667   \n",
       "122  https://sacoronavirus.co.za/latest-vaccine-sta...             7297912   \n",
       "\n",
       "     people_vaccinated  people_fully_vaccinated  \n",
       "118          5202583.0                2274267.0  \n",
       "119          5266979.0                2311559.0  \n",
       "120                NaN                      NaN  \n",
       "121          5580927.0                2580001.0  \n",
       "122          5921627.0                2835930.0  "
      ]
     },
     "execution_count": 80,
     "metadata": {},
     "output_type": "execute_result"
    }
   ],
   "source": [
    "vaccines.tail()"
   ]
  },
  {
   "cell_type": "code",
   "execution_count": 81,
   "id": "e8c21705",
   "metadata": {},
   "outputs": [
    {
     "name": "stdout",
     "output_type": "stream",
     "text": [
      "255929.0 per day\n"
     ]
    }
   ],
   "source": [
    "fully_vaccinated_daily=vaccines.people_fully_vaccinated.iloc[-1] - vaccines.people_fully_vaccinated.iloc[-2]\n",
    "print(f'{fully_vaccinated_daily} per day')"
   ]
  },
  {
   "cell_type": "code",
   "execution_count": 82,
   "id": "1abefe3f",
   "metadata": {},
   "outputs": [
    {
     "data": {
      "text/plain": [
       "55724070.0"
      ]
     },
     "execution_count": 82,
     "metadata": {},
     "output_type": "execute_result"
    }
   ],
   "source": [
    "unvaccinated_people = 58560000 - vaccines.people_fully_vaccinated.iloc[-1]\n",
    "\n",
    "unvaccinated_people"
   ]
  },
  {
   "cell_type": "code",
   "execution_count": 83,
   "id": "0bedc37e",
   "metadata": {},
   "outputs": [
    {
     "data": {
      "text/plain": [
       "217.73253519530806"
      ]
     },
     "execution_count": 83,
     "metadata": {},
     "output_type": "execute_result"
    }
   ],
   "source": [
    "days_unitl_fully_vaccinated = unvaccinated_people/fully_vaccinated_daily\n",
    "days_unitl_fully_vaccinated"
   ]
  },
  {
   "cell_type": "code",
   "execution_count": 84,
   "id": "9160f079",
   "metadata": {},
   "outputs": [
    {
     "data": {
      "text/plain": [
       "36399270.0"
      ]
     },
     "execution_count": 84,
     "metadata": {},
     "output_type": "execute_result"
    }
   ],
   "source": [
    "people_need_vacvine_for_herd_immunity = 58560000 * 0.67 - vaccines.people_fully_vaccinated.iloc[-1]\n",
    "people_need_vacvine_for_herd_immunity "
   ]
  },
  {
   "cell_type": "code",
   "execution_count": 85,
   "id": "2412707f",
   "metadata": {},
   "outputs": [
    {
     "data": {
      "text/plain": [
       "142.22409340090417"
      ]
     },
     "execution_count": 85,
     "metadata": {},
     "output_type": "execute_result"
    }
   ],
   "source": [
    "days_until_herd_immunity = people_need_vacvine_for_herd_immunity/fully_vaccinated_daily\n",
    "days_until_herd_immunity"
   ]
  },
  {
   "cell_type": "code",
   "execution_count": 86,
   "id": "21d2b2eb",
   "metadata": {},
   "outputs": [
    {
     "data": {
      "text/plain": [
       "'2021-07-29'"
      ]
     },
     "execution_count": 86,
     "metadata": {},
     "output_type": "execute_result"
    }
   ],
   "source": [
    "vaccines.date.iloc[-1]"
   ]
  },
  {
   "cell_type": "code",
   "execution_count": 87,
   "id": "40bdeacd",
   "metadata": {},
   "outputs": [],
   "source": [
    "EndDate = date.today() + timedelta(days= int(days_until_herd_immunity))"
   ]
  },
  {
   "cell_type": "code",
   "execution_count": 88,
   "id": "7eb8fefa",
   "metadata": {},
   "outputs": [
    {
     "data": {
      "text/plain": [
       "datetime.date(2021, 12, 21)"
      ]
     },
     "execution_count": 88,
     "metadata": {},
     "output_type": "execute_result"
    }
   ],
   "source": [
    "EndDate"
   ]
  },
  {
   "cell_type": "code",
   "execution_count": null,
   "id": "e527c3a8",
   "metadata": {},
   "outputs": [],
   "source": [
    "    `"
   ]
  }
 ],
 "metadata": {
  "kernelspec": {
   "display_name": "Python 3",
   "language": "python",
   "name": "python3"
  },
  "language_info": {
   "codemirror_mode": {
    "name": "ipython",
    "version": 3
   },
   "file_extension": ".py",
   "mimetype": "text/x-python",
   "name": "python",
   "nbconvert_exporter": "python",
   "pygments_lexer": "ipython3",
   "version": "3.8.8"
  }
 },
 "nbformat": 4,
 "nbformat_minor": 5
}
